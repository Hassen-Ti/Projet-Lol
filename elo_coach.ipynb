{
 "cells": [
  {
   "cell_type": "markdown",
   "metadata": {},
   "source": [
    "**API à utiliser :**"
   ]
  },
  {
   "cell_type": "markdown",
   "metadata": {},
   "source": [
    "\n",
    "TIME FORMAT : Unix Milliseconds time format \n",
    "\n",
    "                        ACCOUNT V1 \n",
    "\n",
    "Récupération PUUID : https://developer.riotgames.com/apis#account-v1/GET_getByRiotId \n",
    "\n",
    "        /riot/account/v1/accounts/by-riot-id/{gameName}/{tagLine}\n",
    "\n",
    "                        MATCH V5 \n",
    "\n",
    "Récupération MatchId : https://developer.riotgames.com/apis#match-v5/GET_getMatchIdsByPUUID\n",
    "\n",
    "        /lol/match/v5/matches/by-puuid/{puuid}/ids\n",
    "\n",
    "Récupération des informations des parties précédentes : https://developer.riotgames.com/apis#match-v5/GET_getMatch\n",
    "\n",
    "        /lol/match/v5/matches/{matchId}\n",
    "\n",
    "Récupération de la timeline de game : https://developer.riotgames.com/apis#match-v5/GET_getTimeline\n",
    "\n",
    "        /lol/match/v5/matches/{matchId}/timeline\n",
    "\n",
    "                        SPECTATOR V5\n",
    "\n",
    "Récupération des informations Current Game : https://developer.riotgames.com/apis#spectator-v5/GET_getCurrentGameInfoByPuuid\n",
    "\n",
    "        /lol/spectator/v5/active-games/by-summoner/{encryptedPUUID}\n",
    "\n",
    "                        CHAMPION MASTERY V4\n",
    "\n",
    "Récupération de la maitrise champion que tu veux : https://developer.riotgames.com/apis#champion-mastery-v4/GET_getChampionMasteryByPUUID\n",
    "\n",
    "        /lol/champion-mastery/v4/champion-masteries/by-puuid/{encryptedPUUID}/by-champion/{championId}\n",
    "\n",
    "Récupération des maitrises des \"TOP\" champions : https://developer.riotgames.com/apis#champion-mastery-v4/GET_getTopChampionMasteriesByPUUID\n",
    "\n",
    "        /lol/champion-mastery/v4/champion-masteries/by-puuid/{encryptedPUUID}/top"
   ]
  },
  {
   "cell_type": "markdown",
   "metadata": {},
   "source": [
    "**Importation des bibliothèques pour récupérer les données de l'API League Of Legend**"
   ]
  },
  {
   "cell_type": "code",
   "execution_count": 1,
   "metadata": {},
   "outputs": [],
   "source": [
    "import requests\n",
    "import pandas as pd\n",
    "\n",
    "# La clé est valide pendant 24h : 20/12 15h12\n",
    "clef = \"RGAPI-94ff8360-025e-40da-ab5b-5b451a3064d5\"\n",
    "region = \"euw1\"\n",
    "region_puuid = \"europe\"\n",
    "gameName = \"Vhorg\"\n",
    "tagLine = \"EUW\""
   ]
  },
  {
   "cell_type": "markdown",
   "metadata": {},
   "source": [
    "**RECUPERATION DU PUUID EN FONCTION DU NOM ET TAGLINE**"
   ]
  },
  {
   "cell_type": "code",
   "execution_count": 2,
   "metadata": {},
   "outputs": [
    {
     "name": "stdout",
     "output_type": "stream",
     "text": [
      "PUUID récupéré : bnfzljX--PoTHkybKyJX_KTGQ2sL6eNZLiHpV99yoES06ZfaPZ9vnWWyRIVZgCFBH3sxJEZ9CW-N1A\n"
     ]
    }
   ],
   "source": [
    "# Définir les paramètres de base\n",
    "API_KEY = clef  # Remplacez par votre clé API\n",
    "BASE_URL = f\"https://{region_puuid}.api.riotgames.com\"  # Remplacez <region> par la région appropriée (ex: americas, asia, europe)\n",
    "GAME_NAME = gameName  # Remplacez par le gameName du joueur\n",
    "TAG_LINE = tagLine  # Remplacez par le tagLine du joueur\n",
    "\n",
    "def get_puuid(game_name, tag_line):\n",
    "    \"\"\"\n",
    "    Récupère le PUUID d'un joueur donné via son Riot ID (gameName et tagLine).\n",
    "    \n",
    "    :param game_name: Nom d'utilisateur du joueur (gameName)\n",
    "    :param tag_line: Tagline du joueur (#1234 sans le #)\n",
    "    :return: Le PUUID du joueur, ou None en cas d'échec\n",
    "    \"\"\"\n",
    "    endpoint = f\"{BASE_URL}/riot/account/v1/accounts/by-riot-id/{game_name}/{tag_line}\"\n",
    "    headers = {\"X-Riot-Token\": API_KEY}\n",
    "    \n",
    "    # Envoyer la requête\n",
    "    response = requests.get(endpoint, headers=headers)\n",
    "    \n",
    "    # Gérer les erreurs potentielles\n",
    "    if response.status_code == 200:\n",
    "        data = response.json()\n",
    "        return data.get(\"puuid\")  # Récupérer le PUUID dans la réponse\n",
    "    else:\n",
    "        print(f\"Erreur: {response.status_code} - {response.text}\")\n",
    "        return None\n",
    "\n",
    "# Exemple d'utilisation\n",
    "if __name__ == \"__main__\":\n",
    "    region = region_puuid  # Exemple de région globale (americas, asia, europe)\n",
    "    BASE_URL = f\"https://{region}.api.riotgames.com\"\n",
    "    GAME_NAME = gameName\n",
    "    TAG_LINE = tagLine\n",
    "    \n",
    "    puuid = get_puuid(GAME_NAME, TAG_LINE)\n",
    "    if puuid:\n",
    "        print(\"PUUID récupéré :\", puuid)\n",
    "    else:\n",
    "        print(\"Impossible de récupérer le PUUID.\")\n"
   ]
  },
  {
   "cell_type": "markdown",
   "metadata": {},
   "source": [
    "**Récuperation des informations de Match précédent**"
   ]
  },
  {
   "cell_type": "code",
   "execution_count": 3,
   "metadata": {},
   "outputs": [
    {
     "name": "stdout",
     "output_type": "stream",
     "text": [
      "PUUID récupéré : bnfzljX--PoTHkybKyJX_KTGQ2sL6eNZLiHpV99yoES06ZfaPZ9vnWWyRIVZgCFBH3sxJEZ9CW-N1A\n",
      "Match IDs récupérés : ['EUW1_7233961839', 'EUW1_7233858798', 'EUW1_7233453842', 'EUW1_7233406549', 'EUW1_7233316075']\n"
     ]
    }
   ],
   "source": [
    "def get_match_ids(puuid, start=0, count=20):\n",
    "    \"\"\"\n",
    "    Récupère les IDs des matchs associés à un PUUID donné.\n",
    "    \n",
    "    :param puuid: Le PUUID du joueur\n",
    "    :param start: Index de début pour la pagination\n",
    "    :param count: Nombre de matchs à récupérer\n",
    "    :return: Liste des IDs des matchs, ou None en cas d'échec\n",
    "    \"\"\"\n",
    "    base_url = f\"https://{region_puuid}.api.riotgames.com\"\n",
    "    endpoint = f\"{base_url}/lol/match/v5/matches/by-puuid/{puuid}/ids\"\n",
    "    headers = {\"X-Riot-Token\": API_KEY}\n",
    "    params = {\n",
    "        \"start\": start,\n",
    "        \"count\": count\n",
    "    }\n",
    "    \n",
    "    response = requests.get(endpoint, headers=headers, params=params)\n",
    "    \n",
    "    if response.status_code == 200:\n",
    "        return response.json()  # Retourne la liste des IDs\n",
    "    else:\n",
    "        print(f\"Erreur lors de la récupération des match IDs : {response.status_code} - {response.text}\")\n",
    "        return None\n",
    "\n",
    "# Exemple d'utilisation\n",
    "if __name__ == \"__main__\":\n",
    "    # Étape 1 : Récupérer le PUUID\n",
    "    puuid = get_puuid(GAME_NAME, TAG_LINE)\n",
    "    \n",
    "    if puuid:\n",
    "        print(\"PUUID récupéré :\", puuid)\n",
    "        \n",
    "        # Étape 2 : Récupérer les match IDs\n",
    "        match_ids = get_match_ids(puuid, start=0, count=5)\n",
    "        if match_ids:\n",
    "            print(\"Match IDs récupérés :\", match_ids)\n",
    "        else:\n",
    "            print(\"Impossible de récupérer les match IDs.\")\n",
    "    else:\n",
    "        print(\"Impossible de récupérer le PUUID.\")"
   ]
  }
 ],
 "metadata": {
  "kernelspec": {
   "display_name": "Python 3",
   "language": "python",
   "name": "python3"
  },
  "language_info": {
   "codemirror_mode": {
    "name": "ipython",
    "version": 3
   },
   "file_extension": ".py",
   "mimetype": "text/x-python",
   "name": "python",
   "nbconvert_exporter": "python",
   "pygments_lexer": "ipython3",
   "version": "3.12.0"
  }
 },
 "nbformat": 4,
 "nbformat_minor": 2
}
